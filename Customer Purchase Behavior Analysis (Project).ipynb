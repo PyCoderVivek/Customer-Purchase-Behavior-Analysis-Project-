{
 "cells": [
  {
   "cell_type": "code",
   "execution_count": null,
   "id": "8d56486f-7c63-4af9-985a-a823d0dc4bdf",
   "metadata": {},
   "outputs": [],
   "source": []
  }
 ],
 "metadata": {
  "kernelspec": {
   "display_name": "",
   "name": ""
  },
  "language_info": {
   "name": ""
  }
 },
 "nbformat": 4,
 "nbformat_minor": 5
}
